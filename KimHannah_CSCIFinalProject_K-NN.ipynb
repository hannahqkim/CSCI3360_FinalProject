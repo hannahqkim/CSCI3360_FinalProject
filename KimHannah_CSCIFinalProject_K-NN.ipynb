{
 "cells": [
  {
   "cell_type": "code",
   "execution_count": 1,
   "metadata": {},
   "outputs": [
    {
     "data": {
      "text/html": [
       "<div>\n",
       "<style scoped>\n",
       "    .dataframe tbody tr th:only-of-type {\n",
       "        vertical-align: middle;\n",
       "    }\n",
       "\n",
       "    .dataframe tbody tr th {\n",
       "        vertical-align: top;\n",
       "    }\n",
       "\n",
       "    .dataframe thead th {\n",
       "        text-align: right;\n",
       "    }\n",
       "</style>\n",
       "<table border=\"1\" class=\"dataframe\">\n",
       "  <thead>\n",
       "    <tr style=\"text-align: right;\">\n",
       "      <th></th>\n",
       "      <th>Class 2</th>\n",
       "      <th>Bin #</th>\n",
       "      <th>Bin Length (Âµm)</th>\n",
       "      <th>Body Weight</th>\n",
       "      <th>Snout to Vent Length</th>\n",
       "      <th>Retinal Surface Area</th>\n",
       "      <th>Occular Average (Âµm)</th>\n",
       "      <th>Macula Diameter</th>\n",
       "      <th>Total Foveal Region length (Âµm)</th>\n",
       "      <th>GCL</th>\n",
       "      <th>INL</th>\n",
       "      <th>ONL</th>\n",
       "      <th>GCL+INL+ONL</th>\n",
       "    </tr>\n",
       "  </thead>\n",
       "  <tbody>\n",
       "    <tr>\n",
       "      <th>0</th>\n",
       "      <td>Hch Mut</td>\n",
       "      <td>51</td>\n",
       "      <td>38.745</td>\n",
       "      <td>0.111</td>\n",
       "      <td>16.0</td>\n",
       "      <td>444328.0</td>\n",
       "      <td>2068.0</td>\n",
       "      <td>774.9</td>\n",
       "      <td>774.901752</td>\n",
       "      <td>17</td>\n",
       "      <td>79</td>\n",
       "      <td>7</td>\n",
       "      <td>103</td>\n",
       "    </tr>\n",
       "    <tr>\n",
       "      <th>1</th>\n",
       "      <td>Hch Mut</td>\n",
       "      <td>60</td>\n",
       "      <td>38.745</td>\n",
       "      <td>0.111</td>\n",
       "      <td>16.0</td>\n",
       "      <td>444328.0</td>\n",
       "      <td>2068.0</td>\n",
       "      <td>774.9</td>\n",
       "      <td>774.901752</td>\n",
       "      <td>7</td>\n",
       "      <td>41</td>\n",
       "      <td>8</td>\n",
       "      <td>56</td>\n",
       "    </tr>\n",
       "    <tr>\n",
       "      <th>2</th>\n",
       "      <td>Hch Mut</td>\n",
       "      <td>52</td>\n",
       "      <td>38.745</td>\n",
       "      <td>0.111</td>\n",
       "      <td>16.0</td>\n",
       "      <td>444328.0</td>\n",
       "      <td>2068.0</td>\n",
       "      <td>774.9</td>\n",
       "      <td>774.901752</td>\n",
       "      <td>14</td>\n",
       "      <td>80</td>\n",
       "      <td>8</td>\n",
       "      <td>102</td>\n",
       "    </tr>\n",
       "    <tr>\n",
       "      <th>3</th>\n",
       "      <td>Hch Mut</td>\n",
       "      <td>53</td>\n",
       "      <td>38.745</td>\n",
       "      <td>0.111</td>\n",
       "      <td>16.0</td>\n",
       "      <td>444328.0</td>\n",
       "      <td>2068.0</td>\n",
       "      <td>774.9</td>\n",
       "      <td>774.901752</td>\n",
       "      <td>17</td>\n",
       "      <td>65</td>\n",
       "      <td>9</td>\n",
       "      <td>91</td>\n",
       "    </tr>\n",
       "    <tr>\n",
       "      <th>4</th>\n",
       "      <td>Hch Mut</td>\n",
       "      <td>54</td>\n",
       "      <td>38.745</td>\n",
       "      <td>0.111</td>\n",
       "      <td>16.0</td>\n",
       "      <td>444328.0</td>\n",
       "      <td>2068.0</td>\n",
       "      <td>774.9</td>\n",
       "      <td>774.901752</td>\n",
       "      <td>14</td>\n",
       "      <td>59</td>\n",
       "      <td>7</td>\n",
       "      <td>80</td>\n",
       "    </tr>\n",
       "  </tbody>\n",
       "</table>\n",
       "</div>"
      ],
      "text/plain": [
       "   Class 2  Bin #   Bin Length (Âµm)  Body Weight  Snout to Vent Length  \\\n",
       "0  Hch Mut      51            38.745        0.111                  16.0   \n",
       "1  Hch Mut      60            38.745        0.111                  16.0   \n",
       "2  Hch Mut      52            38.745        0.111                  16.0   \n",
       "3  Hch Mut      53            38.745        0.111                  16.0   \n",
       "4  Hch Mut      54            38.745        0.111                  16.0   \n",
       "\n",
       "   Retinal Surface Area  Occular Average (Âµm)  Macula Diameter  \\\n",
       "0              444328.0                 2068.0            774.9   \n",
       "1              444328.0                 2068.0            774.9   \n",
       "2              444328.0                 2068.0            774.9   \n",
       "3              444328.0                 2068.0            774.9   \n",
       "4              444328.0                 2068.0            774.9   \n",
       "\n",
       "   Total Foveal Region length (Âµm)  GCL  INL  ONL  GCL+INL+ONL  \n",
       "0                        774.901752   17   79    7          103  \n",
       "1                        774.901752    7   41    8           56  \n",
       "2                        774.901752   14   80    8          102  \n",
       "3                        774.901752   17   65    9           91  \n",
       "4                        774.901752   14   59    7           80  "
      ]
     },
     "execution_count": 1,
     "metadata": {},
     "output_type": "execute_result"
    }
   ],
   "source": [
    "import numpy as np\n",
    "import pandas as pd\n",
    "from sklearn.model_selection import train_test_split\n",
    "from sklearn.preprocessing import StandardScaler\n",
    "from sklearn.ensemble import RandomForestClassifier\n",
    "from sklearn.metrics import confusion_matrix, accuracy_score\n",
    "\n",
    "#Import dataset\n",
    "data = pd.read_csv(\"/Users/hannahkim/Desktop/CSCI Final Project/Dataset.csv\", index_col=None, header=0, encoding='latin-1')\n",
    "data1 = data.drop(['Lizard ID', 'Class 1'], axis=1)\n",
    "data1.head()"
   ]
  },
  {
   "cell_type": "code",
   "execution_count": 2,
   "metadata": {},
   "outputs": [
    {
     "name": "stdout",
     "output_type": "stream",
     "text": [
      "The independent features set: \n",
      "[[5.10000000e+01 3.87450000e+01 1.11000000e-01 1.60000000e+01\n",
      "  4.44328000e+05 2.06800000e+03 7.74900000e+02 7.74901752e+02\n",
      "  1.70000000e+01 7.90000000e+01 7.00000000e+00 1.03000000e+02]\n",
      " [6.00000000e+01 3.87450000e+01 1.11000000e-01 1.60000000e+01\n",
      "  4.44328000e+05 2.06800000e+03 7.74900000e+02 7.74901752e+02\n",
      "  7.00000000e+00 4.10000000e+01 8.00000000e+00 5.60000000e+01]\n",
      " [5.20000000e+01 3.87450000e+01 1.11000000e-01 1.60000000e+01\n",
      "  4.44328000e+05 2.06800000e+03 7.74900000e+02 7.74901752e+02\n",
      "  1.40000000e+01 8.00000000e+01 8.00000000e+00 1.02000000e+02]]\n",
      "The dependent variable: \n",
      "['Hch Mut' 'Hch Mut' 'Hch Mut']\n"
     ]
    }
   ],
   "source": [
    "#Splitting the data into independent and dependent variables\n",
    "X = data1.iloc[:,1:13].values\n",
    "y = data1.iloc[:,0].values\n",
    "print('The independent features set: ')\n",
    "print(X[:3,:])\n",
    "print('The dependent variable: ')\n",
    "print(y[:3])"
   ]
  },
  {
   "cell_type": "code",
   "execution_count": 3,
   "metadata": {},
   "outputs": [
    {
     "name": "stdout",
     "output_type": "stream",
     "text": [
      "3692\n",
      "923\n"
     ]
    }
   ],
   "source": [
    "# Creating the Training and Test set from data\n",
    "X_train, X_test, y_train, y_test = train_test_split(X, y, test_size = 0.20, random_state=42)\n",
    "\n",
    "print(len(X_train))\n",
    "print(len(X_test))"
   ]
  },
  {
   "cell_type": "code",
   "execution_count": 4,
   "metadata": {},
   "outputs": [],
   "source": [
    "# Feature Scaling\n",
    "scaler = StandardScaler()\n",
    "X_train = scaler.fit_transform(X_train)\n",
    "X_test = scaler.transform(X_test)"
   ]
  },
  {
   "cell_type": "code",
   "execution_count": 11,
   "metadata": {},
   "outputs": [],
   "source": [
    "from sklearn.neighbors import KNeighborsClassifier\n",
    "knn1 = KNeighborsClassifier(n_neighbors = 5, p=1).fit(X_train, y_train)\n",
    "knn2 = KNeighborsClassifier(n_neighbors = 5, p=2).fit(X_train, y_train)\n",
    "knn3 = KNeighborsClassifier(n_neighbors = 5, p=3).fit(X_train, y_train)"
   ]
  },
  {
   "cell_type": "code",
   "execution_count": 12,
   "metadata": {},
   "outputs": [
    {
     "name": "stdout",
     "output_type": "stream",
     "text": [
      "0.9837486457204767\n",
      "0.9729144095341279\n",
      "0.962080173347779\n"
     ]
    }
   ],
   "source": [
    "accuracy_minowski = knn1.score(X_test, y_test)\n",
    "accuracy_manhattan = knn2.score(X_test, y_test)\n",
    "accuracy_euclidean = knn3.score(X_test, y_test)\n",
    "\n",
    "print(accuracy_minowski)\n",
    "print(accuracy_manhattan)\n",
    "print(accuracy_euclidean)"
   ]
  },
  {
   "cell_type": "code",
   "execution_count": 10,
   "metadata": {},
   "outputs": [
    {
     "name": "stdout",
     "output_type": "stream",
     "text": [
      "[[199   3   0   0   0   0]\n",
      " [  2 161   3   2   0   0]\n",
      " [  1   1 151   0   0   0]\n",
      " [  0   2   1 144   0   0]\n",
      " [  0   0   0   0  71   0]\n",
      " [  0   0   0   0   0 182]]\n"
     ]
    }
   ],
   "source": [
    "knn_predictions = knn.predict(X_test) \n",
    "cm = confusion_matrix(y_test, knn_predictions)\n",
    "print(cm)"
   ]
  },
  {
   "cell_type": "code",
   "execution_count": 14,
   "metadata": {},
   "outputs": [
    {
     "name": "stdout",
     "output_type": "stream",
     "text": [
      "              precision    recall  f1-score   support\n",
      "\n",
      "      2mo WT       0.99      0.99      0.99       202\n",
      "      4mo WT       0.96      0.96      0.96       168\n",
      "      6mo WT       0.97      0.99      0.98       153\n",
      "      Adt WT       0.99      0.98      0.98       147\n",
      "     Hch Mut       1.00      1.00      1.00        71\n",
      "      Hch WT       1.00      1.00      1.00       182\n",
      "\n",
      "    accuracy                           0.98       923\n",
      "   macro avg       0.98      0.99      0.98       923\n",
      "weighted avg       0.98      0.98      0.98       923\n",
      "\n"
     ]
    }
   ],
   "source": [
    "from sklearn.metrics import classification_report\n",
    "\n",
    "print(classification_report(y_test, knn_predictions))"
   ]
  },
  {
   "cell_type": "code",
   "execution_count": null,
   "metadata": {},
   "outputs": [],
   "source": []
  }
 ],
 "metadata": {
  "kernelspec": {
   "display_name": "Python 3",
   "language": "python",
   "name": "python3"
  },
  "language_info": {
   "codemirror_mode": {
    "name": "ipython",
    "version": 3
   },
   "file_extension": ".py",
   "mimetype": "text/x-python",
   "name": "python",
   "nbconvert_exporter": "python",
   "pygments_lexer": "ipython3",
   "version": "3.7.6"
  }
 },
 "nbformat": 4,
 "nbformat_minor": 4
}
