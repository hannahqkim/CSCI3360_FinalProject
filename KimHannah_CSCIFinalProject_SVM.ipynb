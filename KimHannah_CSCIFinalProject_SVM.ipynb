{
 "cells": [
  {
   "cell_type": "code",
   "execution_count": 23,
   "metadata": {},
   "outputs": [
    {
     "data": {
      "text/html": [
       "<div>\n",
       "<style scoped>\n",
       "    .dataframe tbody tr th:only-of-type {\n",
       "        vertical-align: middle;\n",
       "    }\n",
       "\n",
       "    .dataframe tbody tr th {\n",
       "        vertical-align: top;\n",
       "    }\n",
       "\n",
       "    .dataframe thead th {\n",
       "        text-align: right;\n",
       "    }\n",
       "</style>\n",
       "<table border=\"1\" class=\"dataframe\">\n",
       "  <thead>\n",
       "    <tr style=\"text-align: right;\">\n",
       "      <th></th>\n",
       "      <th>Class 2</th>\n",
       "      <th>Bin #</th>\n",
       "      <th>Bin Length (Âµm)</th>\n",
       "      <th>Body Weight</th>\n",
       "      <th>Snout to Vent Length</th>\n",
       "      <th>Retinal Surface Area</th>\n",
       "      <th>Occular Average (Âµm)</th>\n",
       "      <th>Macula Diameter</th>\n",
       "      <th>Total Foveal Region length (Âµm)</th>\n",
       "      <th>GCL</th>\n",
       "      <th>INL</th>\n",
       "      <th>ONL</th>\n",
       "      <th>GCL+INL+ONL</th>\n",
       "    </tr>\n",
       "  </thead>\n",
       "  <tbody>\n",
       "    <tr>\n",
       "      <th>0</th>\n",
       "      <td>Hch Mut</td>\n",
       "      <td>51</td>\n",
       "      <td>38.745</td>\n",
       "      <td>0.111</td>\n",
       "      <td>16.0</td>\n",
       "      <td>444328.0</td>\n",
       "      <td>2068.0</td>\n",
       "      <td>774.9</td>\n",
       "      <td>774.901752</td>\n",
       "      <td>17</td>\n",
       "      <td>79</td>\n",
       "      <td>7</td>\n",
       "      <td>103</td>\n",
       "    </tr>\n",
       "    <tr>\n",
       "      <th>1</th>\n",
       "      <td>Hch Mut</td>\n",
       "      <td>60</td>\n",
       "      <td>38.745</td>\n",
       "      <td>0.111</td>\n",
       "      <td>16.0</td>\n",
       "      <td>444328.0</td>\n",
       "      <td>2068.0</td>\n",
       "      <td>774.9</td>\n",
       "      <td>774.901752</td>\n",
       "      <td>7</td>\n",
       "      <td>41</td>\n",
       "      <td>8</td>\n",
       "      <td>56</td>\n",
       "    </tr>\n",
       "    <tr>\n",
       "      <th>2</th>\n",
       "      <td>Hch Mut</td>\n",
       "      <td>52</td>\n",
       "      <td>38.745</td>\n",
       "      <td>0.111</td>\n",
       "      <td>16.0</td>\n",
       "      <td>444328.0</td>\n",
       "      <td>2068.0</td>\n",
       "      <td>774.9</td>\n",
       "      <td>774.901752</td>\n",
       "      <td>14</td>\n",
       "      <td>80</td>\n",
       "      <td>8</td>\n",
       "      <td>102</td>\n",
       "    </tr>\n",
       "    <tr>\n",
       "      <th>3</th>\n",
       "      <td>Hch Mut</td>\n",
       "      <td>53</td>\n",
       "      <td>38.745</td>\n",
       "      <td>0.111</td>\n",
       "      <td>16.0</td>\n",
       "      <td>444328.0</td>\n",
       "      <td>2068.0</td>\n",
       "      <td>774.9</td>\n",
       "      <td>774.901752</td>\n",
       "      <td>17</td>\n",
       "      <td>65</td>\n",
       "      <td>9</td>\n",
       "      <td>91</td>\n",
       "    </tr>\n",
       "    <tr>\n",
       "      <th>4</th>\n",
       "      <td>Hch Mut</td>\n",
       "      <td>54</td>\n",
       "      <td>38.745</td>\n",
       "      <td>0.111</td>\n",
       "      <td>16.0</td>\n",
       "      <td>444328.0</td>\n",
       "      <td>2068.0</td>\n",
       "      <td>774.9</td>\n",
       "      <td>774.901752</td>\n",
       "      <td>14</td>\n",
       "      <td>59</td>\n",
       "      <td>7</td>\n",
       "      <td>80</td>\n",
       "    </tr>\n",
       "  </tbody>\n",
       "</table>\n",
       "</div>"
      ],
      "text/plain": [
       "   Class 2  Bin #   Bin Length (Âµm)  Body Weight  Snout to Vent Length  \\\n",
       "0  Hch Mut      51            38.745        0.111                  16.0   \n",
       "1  Hch Mut      60            38.745        0.111                  16.0   \n",
       "2  Hch Mut      52            38.745        0.111                  16.0   \n",
       "3  Hch Mut      53            38.745        0.111                  16.0   \n",
       "4  Hch Mut      54            38.745        0.111                  16.0   \n",
       "\n",
       "   Retinal Surface Area  Occular Average (Âµm)  Macula Diameter  \\\n",
       "0              444328.0                 2068.0            774.9   \n",
       "1              444328.0                 2068.0            774.9   \n",
       "2              444328.0                 2068.0            774.9   \n",
       "3              444328.0                 2068.0            774.9   \n",
       "4              444328.0                 2068.0            774.9   \n",
       "\n",
       "   Total Foveal Region length (Âµm)  GCL  INL  ONL  GCL+INL+ONL  \n",
       "0                        774.901752   17   79    7          103  \n",
       "1                        774.901752    7   41    8           56  \n",
       "2                        774.901752   14   80    8          102  \n",
       "3                        774.901752   17   65    9           91  \n",
       "4                        774.901752   14   59    7           80  "
      ]
     },
     "execution_count": 23,
     "metadata": {},
     "output_type": "execute_result"
    }
   ],
   "source": [
    "import numpy as np\n",
    "import pandas as pd\n",
    "from sklearn.model_selection import train_test_split\n",
    "from sklearn.preprocessing import StandardScaler\n",
    "from sklearn.ensemble import RandomForestClassifier\n",
    "from sklearn.metrics import confusion_matrix, accuracy_score\n",
    "\n",
    "#Import dataset\n",
    "data = pd.read_csv(\"/Users/hannahkim/Desktop/CSCI Final Project/Dataset.csv\", index_col=None, header=0, encoding='latin-1')\n",
    "data1 = data.drop(['Lizard ID', 'Class 1'], axis=1)\n",
    "data1.head()"
   ]
  },
  {
   "cell_type": "code",
   "execution_count": 24,
   "metadata": {},
   "outputs": [
    {
     "name": "stdout",
     "output_type": "stream",
     "text": [
      "The independent features set: \n",
      "[[5.10000000e+01 3.87450000e+01 1.11000000e-01 1.60000000e+01\n",
      "  4.44328000e+05 2.06800000e+03 7.74900000e+02 7.74901752e+02\n",
      "  1.70000000e+01 7.90000000e+01 7.00000000e+00 1.03000000e+02]\n",
      " [6.00000000e+01 3.87450000e+01 1.11000000e-01 1.60000000e+01\n",
      "  4.44328000e+05 2.06800000e+03 7.74900000e+02 7.74901752e+02\n",
      "  7.00000000e+00 4.10000000e+01 8.00000000e+00 5.60000000e+01]\n",
      " [5.20000000e+01 3.87450000e+01 1.11000000e-01 1.60000000e+01\n",
      "  4.44328000e+05 2.06800000e+03 7.74900000e+02 7.74901752e+02\n",
      "  1.40000000e+01 8.00000000e+01 8.00000000e+00 1.02000000e+02]]\n",
      "The dependent variable: \n",
      "['Hch Mut' 'Hch Mut' 'Hch Mut']\n"
     ]
    }
   ],
   "source": [
    "#Splitting the data into independent and dependent variables\n",
    "X = data1.iloc[:,1:13].values\n",
    "y = data1.iloc[:,0].values\n",
    "print('The independent features set: ')\n",
    "print(X[:3,:])\n",
    "print('The dependent variable: ')\n",
    "print(y[:3])"
   ]
  },
  {
   "cell_type": "code",
   "execution_count": 25,
   "metadata": {},
   "outputs": [
    {
     "name": "stdout",
     "output_type": "stream",
     "text": [
      "3692\n",
      "923\n"
     ]
    }
   ],
   "source": [
    "# Creating the Training and Test set from data\n",
    "X_train, X_test, y_train, y_test = train_test_split(X, y, test_size = 0.20, random_state=42)\n",
    "\n",
    "print(len(X_train))\n",
    "print(len(X_test))"
   ]
  },
  {
   "cell_type": "code",
   "execution_count": 26,
   "metadata": {},
   "outputs": [],
   "source": [
    "# Feature Scaling\n",
    "scaler = StandardScaler()\n",
    "X_train = scaler.fit_transform(X_train)\n",
    "X_test = scaler.transform(X_test)"
   ]
  },
  {
   "cell_type": "code",
   "execution_count": 27,
   "metadata": {},
   "outputs": [],
   "source": [
    "from sklearn import svm\n",
    "\n",
    "linear = svm.SVC(kernel='linear', C=1, decision_function_shape='ovo').fit(X_train, y_train)\n",
    "rbf = svm.SVC(kernel='rbf', gamma=1, C=1, decision_function_shape='ovo').fit(X_train, y_train)\n",
    "poly = svm.SVC(kernel='poly', degree=3, C=1, decision_function_shape='ovo').fit(X_train, y_train)\n",
    "sig = svm.SVC(kernel='sigmoid', C=1, decision_function_shape='ovo').fit(X_train, y_train)"
   ]
  },
  {
   "cell_type": "code",
   "execution_count": 28,
   "metadata": {},
   "outputs": [],
   "source": [
    "h = .01\n",
    "\n",
    "#create the mesh\n",
    "x_min, x_max = X[:, 0].min() - 1, X[:, 0].max() + 1\n",
    "y_min, y_max = X[:, 1].min() - 1, X[:, 1].max() + 1\n",
    "xx, yy = np.meshgrid(np.arange(x_min, x_max, h),np.arange(y_min, y_max, h))\n",
    "\n",
    "titles = ['Linear kernel','RBF kernel','Polynomial kernel','Sigmoid kernel']"
   ]
  },
  {
   "cell_type": "code",
   "execution_count": 29,
   "metadata": {
    "scrolled": true
   },
   "outputs": [
    {
     "name": "stdout",
     "output_type": "stream",
     "text": [
      "0.7388949079089924\n",
      "0.8060671722643553\n",
      "0.9761646803900325\n",
      "0.5666305525460456\n"
     ]
    }
   ],
   "source": [
    "linear_pred = linear.predict(X_test)\n",
    "poly_pred = poly.predict(X_test)\n",
    "rbf_pred = rbf.predict(X_test)\n",
    "sig_pred = sig.predict(X_test)\n",
    "\n",
    "# retrieve the accuracy for all 4 kernel functions\n",
    "accuracy_lin = linear.score(X_test, y_test)\n",
    "accuracy_poly = poly.score(X_test, y_test)\n",
    "accuracy_rbf = rbf.score(X_test, y_test)\n",
    "accuracy_sig = sig.score(X_test, y_test)\n",
    "\n",
    "print(accuracy_lin)\n",
    "print(accuracy_poly)\n",
    "print(accuracy_rbf)\n",
    "print(accuracy_sig)"
   ]
  },
  {
   "cell_type": "code",
   "execution_count": 21,
   "metadata": {},
   "outputs": [
    {
     "name": "stdout",
     "output_type": "stream",
     "text": [
      "[[198  55   5   0   0   0]\n",
      " [ 40 115  10  46   0   0]\n",
      " [  8  15 119  54   0   0]\n",
      " [  0  54  38  92   0   0]\n",
      " [  0   0   0   0  82   0]\n",
      " [  0   0   0   0   0 223]]\n",
      "[[242  15   1   0   0   0]\n",
      " [ 76 135   0   0   0   0]\n",
      " [ 22  20 135  19   0   0]\n",
      " [ 12  42  16 114   0   0]\n",
      " [  0   0   0   0  82   0]\n",
      " [  0   0   0   0   0 223]]\n",
      "[[246   9   3   0   0   0]\n",
      " [  1 206   4   0   0   0]\n",
      " [  0   1 194   1   0   0]\n",
      " [  0   6   2 176   0   0]\n",
      " [  0   0   1   0  81   0]\n",
      " [  0   0   3   0   0 220]]\n",
      "[[171  37  19   0   0  31]\n",
      " [ 50  85  21  50   0   5]\n",
      " [ 19  29 100  47   0   1]\n",
      " [ 12  36  51  85   0   0]\n",
      " [  2   0   3   0  48  29]\n",
      " [ 20   6   9   0   2 186]]\n"
     ]
    }
   ],
   "source": [
    "cm_lin = confusion_matrix(y_test, linear_pred)\n",
    "cm_poly = confusion_matrix(y_test, poly_pred)\n",
    "cm_rbf = confusion_matrix(y_test, rbf_pred)\n",
    "cm_sig = confusion_matrix(y_test, sig_pred)\n",
    "\n",
    "print(cm_lin)\n",
    "print(cm_poly)\n",
    "print(cm_rbf)\n",
    "print(cm_sig)\n",
    "\n",
    "# Making the Confusion Matrix\n",
    "confusionmatrix_rbf = pd.crosstab(y_test, rbf_pred, rownames=['Actual Class'], colnames=['Predicted Class'])\n",
    "confusionmatrix_lin.head()\n"
   ]
  },
  {
   "cell_type": "code",
   "execution_count": 22,
   "metadata": {},
   "outputs": [
    {
     "name": "stdout",
     "output_type": "stream",
     "text": [
      "              precision    recall  f1-score   support\n",
      "\n",
      "      2mo WT       1.00      0.95      0.97       258\n",
      "      4mo WT       0.93      0.98      0.95       211\n",
      "      6mo WT       0.94      0.99      0.96       196\n",
      "      Adt WT       0.99      0.96      0.98       184\n",
      "     Hch Mut       1.00      0.99      0.99        82\n",
      "      Hch WT       1.00      0.99      0.99       223\n",
      "\n",
      "    accuracy                           0.97      1154\n",
      "   macro avg       0.98      0.98      0.98      1154\n",
      "weighted avg       0.97      0.97      0.97      1154\n",
      "\n"
     ]
    }
   ],
   "source": [
    "from sklearn.metrics import classification_report\n",
    "\n",
    "print(classification_report(y_test, rbf_pred))"
   ]
  },
  {
   "cell_type": "code",
   "execution_count": null,
   "metadata": {},
   "outputs": [],
   "source": []
  }
 ],
 "metadata": {
  "kernelspec": {
   "display_name": "Python 3",
   "language": "python",
   "name": "python3"
  },
  "language_info": {
   "codemirror_mode": {
    "name": "ipython",
    "version": 3
   },
   "file_extension": ".py",
   "mimetype": "text/x-python",
   "name": "python",
   "nbconvert_exporter": "python",
   "pygments_lexer": "ipython3",
   "version": "3.7.6"
  }
 },
 "nbformat": 4,
 "nbformat_minor": 4
}
